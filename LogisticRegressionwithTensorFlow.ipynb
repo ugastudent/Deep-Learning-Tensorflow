{
 "cells": [
  {
   "cell_type": "code",
   "execution_count": 14,
   "metadata": {},
   "outputs": [],
   "source": [
    "import tensorflow as tf\n",
    "import pandas as pd\n",
    "import numpy as np\n",
    "import time\n",
    "from sklearn.datasets import load_iris\n",
    "from sklearn.cross_validation import train_test_split\n",
    "import matplotlib.pyplot as plt"
   ]
  },
  {
   "cell_type": "code",
   "execution_count": 15,
   "metadata": {
    "collapsed": true
   },
   "outputs": [],
   "source": [
    "iris = load_iris()\n",
    "iris_X, iris_y = iris.data[:-1,:], iris.target[:-1]\n",
    "iris_y= pd.get_dummies(iris_y).values\n",
    "trainX, testX, trainY, testY = train_test_split(iris_X, iris_y, test_size=0.33, random_state=42)"
   ]
  },
  {
   "cell_type": "code",
   "execution_count": 16,
   "metadata": {
    "collapsed": true
   },
   "outputs": [],
   "source": [
    "# numFeatures is the number of features in our input data.\n",
    "# In the iris dataset, this number is '4'.\n",
    "numFeatures = trainX.shape[1]\n",
    "\n",
    "# numLabels is the number of classes our data points can be in.\n",
    "# In the iris dataset, this number is '3'.\n",
    "numLabels = trainY.shape[1]\n",
    "\n",
    "\n",
    "# Placeholders\n",
    "# 'None' means TensorFlow shouldn't expect a fixed number in that dimension\n",
    "X = tf.placeholder(tf.float32, [None, numFeatures]) # Iris has 4 features, so X is a tensor to hold our data.\n",
    "yGold = tf.placeholder(tf.float32, [None, numLabels]) # This will be our correct answers matrix for 3 classes."
   ]
  },
  {
   "cell_type": "code",
   "execution_count": 17,
   "metadata": {
    "collapsed": true
   },
   "outputs": [],
   "source": [
    "W = tf.Variable(tf.zeros([4, 3]))  # 4-dimensional input and  3 classes\n",
    "b = tf.Variable(tf.zeros([3])) # 3-dimensional output [0,0,1],[0,1,0],[1,0,0]"
   ]
  },
  {
   "cell_type": "code",
   "execution_count": 18,
   "metadata": {
    "collapsed": true
   },
   "outputs": [],
   "source": [
    "#Randomly sample from a normal distribution with standard deviation .01\n",
    "\n",
    "weights = tf.Variable(tf.random_normal([numFeatures,numLabels],\n",
    "                                       mean=0,\n",
    "                                       stddev=0.01,\n",
    "                                       name=\"weights\"))\n",
    "\n",
    "bias = tf.Variable(tf.random_normal([1,numLabels],\n",
    "                                    mean=0,\n",
    "                                    stddev=0.01,\n",
    "                                    name=\"bias\"))"
   ]
  },
  {
   "cell_type": "code",
   "execution_count": 19,
   "metadata": {
    "collapsed": true
   },
   "outputs": [],
   "source": [
    "# Three-component breakdown of the Logistic Regression equation.\n",
    "# Note that these feed into each other.\n",
    "apply_weights_OP = tf.matmul(X, weights, name=\"apply_weights\")\n",
    "add_bias_OP = tf.add(apply_weights_OP, bias, name=\"add_bias\") \n",
    "activation_OP = tf.nn.sigmoid(add_bias_OP, name=\"activation\")"
   ]
  },
  {
   "cell_type": "code",
   "execution_count": 20,
   "metadata": {
    "collapsed": true
   },
   "outputs": [],
   "source": [
    "# Number of Epochs in our training\n",
    "numEpochs = 700\n",
    "\n",
    "# Defining our learning rate iterations (decay)\n",
    "learningRate = tf.train.exponential_decay(learning_rate=0.0008,\n",
    "                                          global_step= 1,\n",
    "                                          decay_steps=trainX.shape[0],\n",
    "                                          decay_rate= 0.95,\n",
    "                                          staircase=True)"
   ]
  },
  {
   "cell_type": "code",
   "execution_count": 21,
   "metadata": {
    "collapsed": true
   },
   "outputs": [],
   "source": [
    "#Defining our cost function - Squared Mean Error\n",
    "cost_OP = tf.nn.l2_loss(activation_OP-yGold, name=\"squared_error_cost\")\n",
    "\n",
    "#Defining our Gradient Descent\n",
    "training_OP = tf.train.GradientDescentOptimizer(learningRate).minimize(cost_OP)"
   ]
  },
  {
   "cell_type": "code",
   "execution_count": 22,
   "metadata": {
    "collapsed": true
   },
   "outputs": [],
   "source": [
    "# Create a tensorflow session\n",
    "sess = tf.Session()\n",
    "\n",
    "# Initialize our weights and biases variables.\n",
    "init_OP = tf.global_variables_initializer()\n",
    "\n",
    "# Initialize all tensorflow variables\n",
    "sess.run(init_OP)"
   ]
  },
  {
   "cell_type": "code",
   "execution_count": 23,
   "metadata": {
    "collapsed": true
   },
   "outputs": [],
   "source": [
    "# argmax(activation_OP, 1) returns the label with the most probability\n",
    "# argmax(yGold, 1) is the correct label\n",
    "correct_predictions_OP = tf.equal(tf.argmax(activation_OP,1),tf.argmax(yGold,1))\n",
    "\n",
    "# If every false prediction is 0 and every true prediction is 1, the average returns us the accuracy\n",
    "accuracy_OP = tf.reduce_mean(tf.cast(correct_predictions_OP, \"float\"))\n",
    "\n",
    "# Summary op for regression output\n",
    "activation_summary_OP = tf.summary.histogram(\"output\", activation_OP)\n",
    "\n",
    "# Summary op for accuracy\n",
    "accuracy_summary_OP = tf.summary.scalar(\"accuracy\", accuracy_OP)\n",
    "\n",
    "# Summary op for cost\n",
    "cost_summary_OP = tf.summary.scalar(\"cost\", cost_OP)\n",
    "\n",
    "# Summary ops to check how variables (W, b) are updating after each iteration\n",
    "weightSummary = tf.summary.histogram(\"weights\", weights.eval(session=sess))\n",
    "biasSummary = tf.summary.histogram(\"biases\", bias.eval(session=sess))\n",
    "\n",
    "# Merge all summaries\n",
    "merged = tf.summary.merge([activation_summary_OP, accuracy_summary_OP, cost_summary_OP, weightSummary, biasSummary])\n",
    "\n",
    "# Summary writer\n",
    "writer = tf.summary.FileWriter(\"summary_logs\", sess.graph)"
   ]
  },
  {
   "cell_type": "code",
   "execution_count": 25,
   "metadata": {},
   "outputs": [
    {
     "name": "stdout",
     "output_type": "stream",
     "text": [
      "step 0, training accuracy 0.333333, cost 34.6874, change in cost 34.6874\n",
      "step 10, training accuracy 0.363636, cost 30.2339, change in cost 4.45358\n",
      "step 20, training accuracy 0.646465, cost 28.284, change in cost 1.94986\n",
      "step 30, training accuracy 0.646465, cost 26.6324, change in cost 1.65162\n",
      "step 40, training accuracy 0.646465, cost 25.2561, change in cost 1.37628\n",
      "step 50, training accuracy 0.646465, cost 24.1169, change in cost 1.13925\n",
      "step 60, training accuracy 0.646465, cost 23.1727, change in cost 0.944141\n",
      "step 70, training accuracy 0.646465, cost 22.3856, change in cost 0.787083\n",
      "step 80, training accuracy 0.646465, cost 21.7239, change in cost 0.661705\n",
      "step 90, training accuracy 0.646465, cost 21.1622, change in cost 0.561676\n",
      "step 100, training accuracy 0.656566, cost 20.6807, change in cost 0.481508\n",
      "step 110, training accuracy 0.666667, cost 20.2639, change in cost 0.416845\n",
      "step 120, training accuracy 0.666667, cost 19.8996, change in cost 0.36426\n",
      "step 130, training accuracy 0.666667, cost 19.5785, change in cost 0.321133\n",
      "step 140, training accuracy 0.666667, cost 19.293, change in cost 0.28546\n",
      "step 150, training accuracy 0.666667, cost 19.0373, change in cost 0.255697\n",
      "step 160, training accuracy 0.676768, cost 18.8067, change in cost 0.230663\n",
      "step 170, training accuracy 0.686869, cost 18.5972, change in cost 0.209446\n",
      "step 180, training accuracy 0.686869, cost 18.4059, change in cost 0.191328\n",
      "step 190, training accuracy 0.707071, cost 18.2302, change in cost 0.175747\n",
      "step 200, training accuracy 0.717172, cost 18.0679, change in cost 0.162258\n",
      "step 210, training accuracy 0.737374, cost 17.9174, change in cost 0.150513\n",
      "step 220, training accuracy 0.737374, cost 17.7772, change in cost 0.140223\n",
      "step 230, training accuracy 0.747475, cost 17.646, change in cost 0.131155\n",
      "step 240, training accuracy 0.757576, cost 17.5229, change in cost 0.123123\n",
      "step 250, training accuracy 0.767677, cost 17.4069, change in cost 0.115974\n",
      "step 260, training accuracy 0.787879, cost 17.2973, change in cost 0.109585\n",
      "step 270, training accuracy 0.787879, cost 17.1935, change in cost 0.10384\n",
      "step 280, training accuracy 0.787879, cost 17.0948, change in cost 0.0986652\n",
      "step 290, training accuracy 0.787879, cost 17.0009, change in cost 0.0939693\n",
      "step 300, training accuracy 0.79798, cost 16.9111, change in cost 0.0897121\n",
      "step 310, training accuracy 0.79798, cost 16.8253, change in cost 0.0858192\n",
      "step 320, training accuracy 0.79798, cost 16.7431, change in cost 0.082262\n",
      "step 330, training accuracy 0.79798, cost 16.6641, change in cost 0.078989\n",
      "step 340, training accuracy 0.808081, cost 16.5881, change in cost 0.0759792\n",
      "step 350, training accuracy 0.818182, cost 16.5149, change in cost 0.0731945\n",
      "step 360, training accuracy 0.828283, cost 16.4443, change in cost 0.0706196\n",
      "step 370, training accuracy 0.838384, cost 16.3761, change in cost 0.0682182\n",
      "step 380, training accuracy 0.838384, cost 16.3101, change in cost 0.0659904\n",
      "step 390, training accuracy 0.848485, cost 16.2462, change in cost 0.0639095\n",
      "step 400, training accuracy 0.848485, cost 16.1842, change in cost 0.0619602\n",
      "step 410, training accuracy 0.848485, cost 16.1241, change in cost 0.060133\n",
      "step 420, training accuracy 0.848485, cost 16.0657, change in cost 0.0584164\n",
      "step 430, training accuracy 0.848485, cost 16.0089, change in cost 0.056797\n",
      "step 440, training accuracy 0.868687, cost 15.9536, change in cost 0.055274\n",
      "step 450, training accuracy 0.868687, cost 15.8997, change in cost 0.0538311\n",
      "step 460, training accuracy 0.868687, cost 15.8473, change in cost 0.0524645\n",
      "step 470, training accuracy 0.878788, cost 15.7961, change in cost 0.0511703\n",
      "step 480, training accuracy 0.878788, cost 15.7462, change in cost 0.0499439\n",
      "step 490, training accuracy 0.878788, cost 15.6974, change in cost 0.0487747\n",
      "step 500, training accuracy 0.878788, cost 15.6497, change in cost 0.0476599\n",
      "step 510, training accuracy 0.878788, cost 15.6031, change in cost 0.0465984\n",
      "step 520, training accuracy 0.878788, cost 15.5576, change in cost 0.045579\n",
      "step 530, training accuracy 0.878788, cost 15.5129, change in cost 0.0446138\n",
      "step 540, training accuracy 0.89899, cost 15.4693, change in cost 0.0436821\n",
      "step 550, training accuracy 0.89899, cost 15.4265, change in cost 0.0427952\n",
      "step 560, training accuracy 0.89899, cost 15.3845, change in cost 0.041935\n",
      "step 570, training accuracy 0.89899, cost 15.3434, change in cost 0.0411177\n",
      "step 580, training accuracy 0.89899, cost 15.3031, change in cost 0.0403271\n",
      "step 590, training accuracy 0.909091, cost 15.2635, change in cost 0.0395679\n",
      "step 600, training accuracy 0.909091, cost 15.2247, change in cost 0.0388374\n",
      "step 610, training accuracy 0.909091, cost 15.1866, change in cost 0.0381289\n",
      "step 620, training accuracy 0.909091, cost 15.1491, change in cost 0.0374527\n",
      "step 630, training accuracy 0.909091, cost 15.1123, change in cost 0.0367908\n",
      "step 640, training accuracy 0.909091, cost 15.0762, change in cost 0.0361567\n",
      "step 650, training accuracy 0.909091, cost 15.0406, change in cost 0.0355425\n",
      "step 660, training accuracy 0.909091, cost 15.0057, change in cost 0.0349483\n",
      "step 670, training accuracy 0.909091, cost 14.9713, change in cost 0.0343704\n",
      "step 680, training accuracy 0.909091, cost 14.9375, change in cost 0.0338154\n",
      "step 690, training accuracy 0.909091, cost 14.9042, change in cost 0.0332689\n",
      "final accuracy on test set: 0.9\n"
     ]
    }
   ],
   "source": [
    "# Initialize reporting variables\n",
    "cost = 0\n",
    "diff = 1\n",
    "epoch_values = []\n",
    "accuracy_values = []\n",
    "cost_values = []\n",
    "\n",
    "# Training epochs\n",
    "for i in range(numEpochs):\n",
    "    if i > 1 and diff < .0001:\n",
    "        print(\"change in cost %g; convergence.\"%diff)\n",
    "        break\n",
    "    else:\n",
    "        # Run training step\n",
    "        step = sess.run(training_OP, feed_dict={X: trainX, yGold: trainY})\n",
    "        # Report occasional stats\n",
    "        if i % 10 == 0:\n",
    "            # Add epoch to epoch_values\n",
    "            epoch_values.append(i)\n",
    "            # Generate accuracy stats on test data\n",
    "            train_accuracy, newCost = sess.run([accuracy_OP, cost_OP], feed_dict={X: trainX, yGold: trainY})\n",
    "            # Add accuracy to live graphing variable\n",
    "            accuracy_values.append(train_accuracy)\n",
    "            # Add cost to live graphing variable\n",
    "            cost_values.append(newCost)\n",
    "            # Re-assign values for variables\n",
    "            diff = abs(newCost - cost)\n",
    "            cost = newCost\n",
    "\n",
    "            #generate print statements\n",
    "            print(\"step %d, training accuracy %g, cost %g, change in cost %g\"%(i, train_accuracy, newCost, diff))\n",
    "\n",
    "\n",
    "# How well do we perform on held-out test data?\n",
    "print(\"final accuracy on test set: %s\" %str(sess.run(accuracy_OP, \n",
    "                                                     feed_dict={X: testX, \n",
    "                                                                yGold: testY})))"
   ]
  },
  {
   "cell_type": "markdown",
   "metadata": {},
   "source": [
    "__Why don't we plot the cost to see how it behaves?__"
   ]
  },
  {
   "cell_type": "code",
   "execution_count": 12,
   "metadata": {},
   "outputs": [
    {
     "name": "stderr",
     "output_type": "stream",
     "text": [
      "C:\\Users\\BRG_user\\Anaconda3\\lib\\site-packages\\numpy\\core\\fromnumeric.py:2909: RuntimeWarning: Mean of empty slice.\n",
      "  out=out, **kwargs)\n",
      "C:\\Users\\BRG_user\\Anaconda3\\lib\\site-packages\\numpy\\core\\_methods.py:80: RuntimeWarning: invalid value encountered in double_scalars\n",
      "  ret = ret.dtype.type(ret / rcount)\n"
     ]
    },
    {
     "data": {
      "image/png": "[encoded data removed]",
      "text/plain": [
       "<matplotlib.figure.Figure at 0x1ef7ac91c50>"
      ]
     },
     "metadata": {},
     "output_type": "display_data"
    }
   ],
   "source": [
    "%matplotlib inline\n",
    "import numpy as np\n",
    "import matplotlib.pyplot as plt\n",
    "plt.plot([np.mean(cost_values[i-50:i]) for i in range(len(cost_values))])\n",
    "plt.show()"
   ]
  }
 ],
 "metadata": {
  "kernelspec": {
   "display_name": "Python 3",
   "language": "python",
   "name": "python3"
  },
  "language_info": {
   "codemirror_mode": {
    "name": "ipython",
    "version": 3
   },
   "file_extension": ".py",
   "mimetype": "text/x-python",
   "name": "python",
   "nbconvert_exporter": "python",
   "pygments_lexer": "ipython3",
   "version": "3.6.3"
  },
  "widgets": {
   "state": {},
   "version": "1.1.2"
  }
 },
 "nbformat": 4,
 "nbformat_minor": 1
}
