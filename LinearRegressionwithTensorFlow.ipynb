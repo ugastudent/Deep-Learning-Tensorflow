{
 "cells": [
  {
   "cell_type": "code",
   "execution_count": 43,
   "metadata": {
    "collapsed": true
   },
   "outputs": [],
   "source": [
    "import numpy as np\n",
    "import tensorflow as tf\n",
    "import matplotlib.patches as mpatches\n",
    "import matplotlib.pyplot as plt\n",
    "%matplotlib inline\n",
    "plt.rcParams['figure.figsize'] = (10, 6)"
   ]
  },
  {
   "cell_type": "code",
   "execution_count": 44,
   "metadata": {},
   "outputs": [
    {
     "data": {
      "text/plain": [
       "array([ 0. ,  0.1,  0.2,  0.3,  0.4,  0.5,  0.6,  0.7,  0.8,  0.9,  1. ,\n",
       "        1.1,  1.2,  1.3,  1.4,  1.5,  1.6,  1.7,  1.8,  1.9,  2. ,  2.1,\n",
       "        2.2,  2.3,  2.4,  2.5,  2.6,  2.7,  2.8,  2.9,  3. ,  3.1,  3.2,\n",
       "        3.3,  3.4,  3.5,  3.6,  3.7,  3.8,  3.9,  4. ,  4.1,  4.2,  4.3,\n",
       "        4.4,  4.5,  4.6,  4.7,  4.8,  4.9])"
      ]
     },
     "execution_count": 44,
     "metadata": {},
     "output_type": "execute_result"
    }
   ],
   "source": [
    "X = np.arange(0.0, 5.0, 0.1)\n",
    "X"
   ]
  },
  {
   "cell_type": "code",
   "execution_count": null,
   "metadata": {
    "collapsed": true
   },
   "outputs": [],
   "source": []
  },
  {
   "cell_type": "code",
   "execution_count": 45,
   "metadata": {},
   "outputs": [
    {
     "data": {
      "image/png": "[encoded data removed]",
      "text/plain": [
       "<matplotlib.figure.Figure at 0x2cd1e126da0>"
      ]
     },
     "metadata": {},
     "output_type": "display_data"
    }
   ],
   "source": [
    "##You can adjust the slope and intercept to verify the changes in the graph\n",
    "a=1\n",
    "b=0\n",
    "\n",
    "Y= a*X + b \n",
    "\n",
    "plt.plot(X,Y) \n",
    "plt.ylabel('Dependent Variable')\n",
    "plt.xlabel('Indepdendent Variable')\n",
    "plt.show()"
   ]
  },
  {
   "cell_type": "code",
   "execution_count": 53,
   "metadata": {},
   "outputs": [
    {
     "data": {
      "text/plain": [
       "array([ 0.69985819,  0.58609349,  0.61587781,  0.52766615,  0.36103296,\n",
       "        0.85257763,  0.25579378,  0.22551936,  0.98625565,  0.85644305,\n",
       "        0.23991992,  0.06069067,  0.66529846,  0.40647972,  0.7775737 ,\n",
       "        0.61714375,  0.00808574,  0.59722507,  0.89310747,  0.04022781,\n",
       "        0.30001813,  0.90410686,  0.33565098,  0.24672003,  0.330369  ,\n",
       "        0.86992484,  0.95810646,  0.5279426 ,  0.92478234,  0.36557078,\n",
       "        0.34951839,  0.96057045,  0.07277753,  0.19268014,  0.59570485,\n",
       "        0.77824396,  0.03300158,  0.66084015,  0.70514596,  0.78710032,\n",
       "        0.2337926 ,  0.23041098,  0.31940413,  0.24678218,  0.57516074,\n",
       "        0.88803083,  0.96434897,  0.82502484,  0.57279289,  0.22764276,\n",
       "        0.12153555,  0.15645757,  0.30143669,  0.95435673,  0.11251821,\n",
       "        0.35214877,  0.60955256,  0.84280622,  0.48435527,  0.52962852,\n",
       "        0.03044444,  0.59192377,  0.1732779 ,  0.7562474 ,  0.71481556,\n",
       "        0.705055  ,  0.21272203,  0.98881882,  0.63368839,  0.99199247,\n",
       "        0.14195682,  0.90002006,  0.14007786,  0.57844639,  0.1099498 ,\n",
       "        0.58000994,  0.81871384,  0.28714898,  0.49541602,  0.3944574 ,\n",
       "        0.2204829 ,  0.16924097,  0.09210265,  0.82907838,  0.14315322,\n",
       "        0.26337066,  0.23558526,  0.71276498,  0.4052512 ,  0.32307723,\n",
       "        0.89666891,  0.99183339,  0.70408267,  0.51841146,  0.0078981 ,\n",
       "        0.90761268,  0.17552975,  0.7811504 ,  0.53548408,  0.28786117], dtype=float32)"
      ]
     },
     "execution_count": 53,
     "metadata": {},
     "output_type": "execute_result"
    }
   ],
   "source": [
    "x_data = np.random.rand(100).astype(np.float32)\n",
    "x_data"
   ]
  },
  {
   "cell_type": "code",
   "execution_count": 54,
   "metadata": {},
   "outputs": [
    {
     "data": {
      "text/plain": [
       "array([ 4.41473199,  3.81890266,  3.72448232,  3.68881116,  3.17240854,\n",
       "        4.55238566,  2.78036245,  2.82044976,  4.84721226,  4.67781623,\n",
       "        2.47916553,  2.18852827,  4.08738941,  3.21534408,  4.34938219,\n",
       "        3.81707042,  1.96445224,  3.73996971,  4.76620645,  2.026937  ,\n",
       "        2.82921299,  4.70891127,  3.00677679,  2.68248728,  3.05773589,\n",
       "        4.49759677,  4.87314143,  3.57075299,  4.86297551,  2.9977533 ,\n",
       "        2.98600539,  4.95942042,  2.36286901,  2.48116989,  3.68493708,\n",
       "        4.55996898,  2.22391608,  3.88252858,  4.23103167,  4.24236369,\n",
       "        2.69330739,  2.85404824,  2.98018444,  2.8075649 ,  3.74810352,\n",
       "        4.56346347,  4.96339054,  4.62274035,  3.79445648,  2.67653372,\n",
       "        2.4146879 ,  2.37515713,  2.93629098,  4.83859297,  2.38431877,\n",
       "        3.00662136,  3.99356699,  4.48796334,  3.35802269,  3.69493636,\n",
       "        2.20119195,  3.86383191,  2.42495214,  4.41449775,  4.26048154,\n",
       "        4.08755752,  2.67315148,  4.94063942,  3.85938663,  5.01809128,\n",
       "        2.36423943,  4.48146901,  2.42659119,  3.66603739,  2.41586559,\n",
       "        3.8008797 ,  4.43873478,  2.76931067,  3.53520891,  3.0762539 ,\n",
       "        2.80806438,  2.57357492,  2.24189048,  4.49033795,  2.2663259 ,\n",
       "        2.68568945,  2.75370657,  3.9908264 ,  3.20710085,  2.9906434 ,\n",
       "        4.86618481,  4.92272458,  4.21817981,  3.71235027,  2.26780411,\n",
       "        4.73168335,  2.52306468,  4.44740413,  3.58456454,  2.96369681])"
      ]
     },
     "execution_count": 54,
     "metadata": {},
     "output_type": "execute_result"
    }
   ],
   "source": [
    "y_data = x_data * 3 + 2\n",
    "y_data = np.vectorize(lambda y: y + np.random.normal(loc=0.0, scale=0.1))(y_data)\n",
    "y_data"
   ]
  },
  {
   "cell_type": "code",
   "execution_count": 48,
   "metadata": {
    "collapsed": true
   },
   "outputs": [],
   "source": [
    "a = tf.Variable(1.0)\n",
    "b = tf.Variable(0.2)\n",
    "y = a * x_data + b"
   ]
  },
  {
   "cell_type": "code",
   "execution_count": 49,
   "metadata": {
    "collapsed": true
   },
   "outputs": [],
   "source": [
    "loss = tf.reduce_mean(tf.square(y - y_data))"
   ]
  },
  {
   "cell_type": "code",
   "execution_count": 50,
   "metadata": {
    "collapsed": true
   },
   "outputs": [],
   "source": [
    "optimizer = tf.train.GradientDescentOptimizer(0.5)\n",
    "train = optimizer.minimize(loss)"
   ]
  },
  {
   "cell_type": "code",
   "execution_count": 51,
   "metadata": {
    "collapsed": true
   },
   "outputs": [],
   "source": [
    "init = tf.global_variables_initializer()\n",
    "sess = tf.Session()\n",
    "sess.run(init)"
   ]
  },
  {
   "cell_type": "code",
   "execution_count": 52,
   "metadata": {},
   "outputs": [
    {
     "name": "stdout",
     "output_type": "stream",
     "text": [
      "0 [2.5645885, 3.0013678]\n",
      "5 [2.4407823, 2.2950208]\n",
      "10 [2.5828168, 2.2199302]\n",
      "15 [2.6840241, 2.1656475]\n",
      "20 [2.7563713, 2.1268449]\n",
      "25 [2.8080878, 2.0991075]\n",
      "30 [2.8450568, 2.0792794]\n",
      "35 [2.8714838, 2.0651057]\n",
      "40 [2.8903747, 2.0549738]\n",
      "45 [2.9038787, 2.0477312]\n",
      "50 [2.9135318, 2.0425537]\n",
      "55 [2.9204321, 2.0388529]\n",
      "60 [2.925365, 2.0362072]\n",
      "65 [2.9288909, 2.0343161]\n",
      "70 [2.9314115, 2.0329642]\n",
      "75 [2.9332135, 2.0319979]\n",
      "80 [2.9345014, 2.031307]\n",
      "85 [2.9354222, 2.0308132]\n",
      "90 [2.9360802, 2.0304604]\n",
      "95 [2.9365509, 2.0302079]\n"
     ]
    }
   ],
   "source": [
    "train_data = []\n",
    "for step in range(100):\n",
    "    evals = sess.run([train,a,b])[1:]\n",
    "    if step % 5 == 0:\n",
    "        print(step, evals)\n",
    "        train_data.append(evals)"
   ]
  },
  {
   "cell_type": "code",
   "execution_count": null,
   "metadata": {
    "collapsed": true
   },
   "outputs": [],
   "source": []
  },
  {
   "cell_type": "code",
   "execution_count": null,
   "metadata": {
    "collapsed": true
   },
   "outputs": [],
   "source": []
  }
 ],
 "metadata": {
  "kernelspec": {
   "display_name": "Python 3",
   "language": "python",
   "name": "python3"
  },
  "language_info": {
   "codemirror_mode": {
    "name": "ipython",
    "version": 3
   },
   "file_extension": ".py",
   "mimetype": "text/x-python",
   "name": "python",
   "nbconvert_exporter": "python",
   "pygments_lexer": "ipython3",
   "version": "3.6.3"
  },
  "widgets": {
   "state": {},
   "version": "1.1.2"
  }
 },
 "nbformat": 4,
 "nbformat_minor": 1
}
